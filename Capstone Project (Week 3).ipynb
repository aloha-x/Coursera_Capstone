{
 "cells": [
  {
   "cell_type": "markdown",
   "metadata": {},
   "source": [
    "This is done to load pandas and numpy."
   ]
  },
  {
   "cell_type": "code",
   "execution_count": 1,
   "metadata": {},
   "outputs": [],
   "source": [
    "import pandas as pd\n",
    "import numpy as np"
   ]
  },
  {
   "cell_type": "markdown",
   "metadata": {},
   "source": [
    "This is done for pandas to read the URL of the Wikipedia webpage."
   ]
  },
  {
   "cell_type": "code",
   "execution_count": 2,
   "metadata": {},
   "outputs": [],
   "source": [
    "url = 'https://en.wikipedia.org/wiki/List_of_postal_codes_of_Canada:_M'\n",
    "pos = pd.read_html(url)"
   ]
  },
  {
   "cell_type": "markdown",
   "metadata": {},
   "source": [
    "This is done to create the dataframe with headers conforming to instructions."
   ]
  },
  {
   "cell_type": "code",
   "execution_count": 3,
   "metadata": {},
   "outputs": [],
   "source": [
    "df = pos[0]\n",
    "\n",
    "df.replace({\"Postal Code\":\"PostalCode\",\"Neighbourhood\":\"Neighborhood\"},inplace = True)\n",
    "df.columns = df.iloc[0]\n",
    "df = df[1:]"
   ]
  },
  {
   "cell_type": "markdown",
   "metadata": {},
   "source": [
    "This is done to drop all rows containing boroughs \"Not assigned\" and to reset row index."
   ]
  },
  {
   "cell_type": "code",
   "execution_count": 4,
   "metadata": {},
   "outputs": [
    {
     "name": "stderr",
     "output_type": "stream",
     "text": [
      "/Users/Aloysius/anaconda3/lib/python3.6/site-packages/pandas/core/generic.py:5886: SettingWithCopyWarning: \n",
      "A value is trying to be set on a copy of a slice from a DataFrame\n",
      "\n",
      "See the caveats in the documentation: http://pandas.pydata.org/pandas-docs/stable/indexing.html#indexing-view-versus-copy\n",
      "  self._update_inplace(new_data)\n"
     ]
    }
   ],
   "source": [
    "df[\"Borough\"].replace({\"Not assigned\":np.nan},inplace = True)\n",
    "df = df[df[\"Borough\"].notna()]\n",
    "df = df.reset_index(drop=True)"
   ]
  },
  {
   "cell_type": "code",
   "execution_count": 5,
   "metadata": {},
   "outputs": [
    {
     "name": "stdout",
     "output_type": "stream",
     "text": [
      "0  PostalCode           Borough  \\\n",
      "0         M3A        North York   \n",
      "1         M4A        North York   \n",
      "2         M5A  Downtown Toronto   \n",
      "3         M6A        North York   \n",
      "4         M7A  Downtown Toronto   \n",
      "5         M9A         Etobicoke   \n",
      "6         M1B       Scarborough   \n",
      "7         M3B        North York   \n",
      "8         M4B         East York   \n",
      "9         M5B  Downtown Toronto   \n",
      "10        M6B        North York   \n",
      "11        M9B         Etobicoke   \n",
      "12        M1C       Scarborough   \n",
      "13        M3C        North York   \n",
      "14        M4C         East York   \n",
      "\n",
      "0                                        Neighborhood  \n",
      "0                                           Parkwoods  \n",
      "1                                    Victoria Village  \n",
      "2                           Regent Park, Harbourfront  \n",
      "3                    Lawrence Manor, Lawrence Heights  \n",
      "4         Queen's Park, Ontario Provincial Government  \n",
      "5             Islington Avenue, Humber Valley Village  \n",
      "6                                      Malvern, Rouge  \n",
      "7                                           Don Mills  \n",
      "8                     Parkview Hill, Woodbine Gardens  \n",
      "9                            Garden District, Ryerson  \n",
      "10                                          Glencairn  \n",
      "11  West Deane Park, Princess Gardens, Martin Grov...  \n",
      "12             Rouge Hill, Port Union, Highland Creek  \n",
      "13                                          Don Mills  \n",
      "14                                   Woodbine Heights  \n"
     ]
    }
   ],
   "source": [
    "print(df.head(15))"
   ]
  },
  {
   "cell_type": "markdown",
   "metadata": {},
   "source": [
    "This is to print the number of rows of the dataframe."
   ]
  },
  {
   "cell_type": "code",
   "execution_count": 10,
   "metadata": {},
   "outputs": [
    {
     "name": "stdout",
     "output_type": "stream",
     "text": [
      "(103, 3)\n"
     ]
    }
   ],
   "source": [
    "print(df.shape)"
   ]
  },
  {
   "cell_type": "code",
   "execution_count": null,
   "metadata": {},
   "outputs": [],
   "source": []
  }
 ],
 "metadata": {
  "kernelspec": {
   "display_name": "Python 3",
   "language": "python",
   "name": "python3"
  },
  "language_info": {
   "codemirror_mode": {
    "name": "ipython",
    "version": 3
   },
   "file_extension": ".py",
   "mimetype": "text/x-python",
   "name": "python",
   "nbconvert_exporter": "python",
   "pygments_lexer": "ipython3",
   "version": "3.6.5"
  }
 },
 "nbformat": 4,
 "nbformat_minor": 2
}
