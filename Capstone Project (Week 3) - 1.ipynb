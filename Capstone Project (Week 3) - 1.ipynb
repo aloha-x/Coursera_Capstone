{
 "cells": [
  {
   "cell_type": "markdown",
   "metadata": {},
   "source": [
    "This is done to load pandas and numpy."
   ]
  },
  {
   "cell_type": "code",
   "execution_count": 1,
   "metadata": {},
   "outputs": [],
   "source": [
    "import pandas as pd\n",
    "import numpy as np"
   ]
  },
  {
   "cell_type": "markdown",
   "metadata": {},
   "source": [
    "This is done for pandas to read the URL of the Wikipedia webpage and the CSV file."
   ]
  },
  {
   "cell_type": "code",
   "execution_count": 2,
   "metadata": {},
   "outputs": [],
   "source": [
    "url = 'https://en.wikipedia.org/wiki/List_of_postal_codes_of_Canada:_M'\n",
    "pos = pd.read_html(url)\n",
    "\n",
    "pos_geo = pd.read_csv(\"Geospatial_Coordinates.csv\")"
   ]
  },
  {
   "cell_type": "markdown",
   "metadata": {},
   "source": [
    "This is done to merge the dataframes with headers conforming to instructions."
   ]
  },
  {
   "cell_type": "code",
   "execution_count": 3,
   "metadata": {},
   "outputs": [],
   "source": [
    "df = pos[0]\n",
    "\n",
    "df.columns = df.iloc[0]\n",
    "df = df[1:]\n",
    "\n",
    "df = df.merge(pos_geo,on=\"Postal Code\")\n",
    "df = df.rename(columns={\"Postal Code\":\"PostalCode\",\"Neighbourhood\":\"Neighborhood\"})"
   ]
  },
  {
   "cell_type": "markdown",
   "metadata": {},
   "source": [
    "This is done to drop all rows containing boroughs \"Not assigned\" and to reset row index."
   ]
  },
  {
   "cell_type": "code",
   "execution_count": 4,
   "metadata": {},
   "outputs": [],
   "source": [
    "df[\"Borough\"].replace({\"Not assigned\":np.nan},inplace = True)\n",
    "df = df[df[\"Borough\"].notna()]\n",
    "df = df.reset_index(drop=True)"
   ]
  },
  {
   "cell_type": "code",
   "execution_count": 5,
   "metadata": {},
   "outputs": [
    {
     "name": "stdout",
     "output_type": "stream",
     "text": [
      "   PostalCode           Borough  \\\n",
      "0         M3A        North York   \n",
      "1         M4A        North York   \n",
      "2         M5A  Downtown Toronto   \n",
      "3         M6A        North York   \n",
      "4         M7A  Downtown Toronto   \n",
      "5         M9A         Etobicoke   \n",
      "6         M1B       Scarborough   \n",
      "7         M3B        North York   \n",
      "8         M4B         East York   \n",
      "9         M5B  Downtown Toronto   \n",
      "10        M6B        North York   \n",
      "11        M9B         Etobicoke   \n",
      "12        M1C       Scarborough   \n",
      "13        M3C        North York   \n",
      "14        M4C         East York   \n",
      "\n",
      "                                         Neighborhood   Latitude  Longitude  \n",
      "0                                           Parkwoods  43.753259 -79.329656  \n",
      "1                                    Victoria Village  43.725882 -79.315572  \n",
      "2                           Regent Park, Harbourfront  43.654260 -79.360636  \n",
      "3                    Lawrence Manor, Lawrence Heights  43.718518 -79.464763  \n",
      "4         Queen's Park, Ontario Provincial Government  43.662301 -79.389494  \n",
      "5             Islington Avenue, Humber Valley Village  43.667856 -79.532242  \n",
      "6                                      Malvern, Rouge  43.806686 -79.194353  \n",
      "7                                           Don Mills  43.745906 -79.352188  \n",
      "8                     Parkview Hill, Woodbine Gardens  43.706397 -79.309937  \n",
      "9                            Garden District, Ryerson  43.657162 -79.378937  \n",
      "10                                          Glencairn  43.709577 -79.445073  \n",
      "11  West Deane Park, Princess Gardens, Martin Grov...  43.650943 -79.554724  \n",
      "12             Rouge Hill, Port Union, Highland Creek  43.784535 -79.160497  \n",
      "13                                          Don Mills  43.725900 -79.340923  \n",
      "14                                   Woodbine Heights  43.695344 -79.318389  \n"
     ]
    }
   ],
   "source": [
    "print(df.head(15))"
   ]
  },
  {
   "cell_type": "markdown",
   "metadata": {},
   "source": [
    "This is to print the number of rows of the dataframe."
   ]
  },
  {
   "cell_type": "code",
   "execution_count": 6,
   "metadata": {},
   "outputs": [
    {
     "name": "stdout",
     "output_type": "stream",
     "text": [
      "(103, 5)\n"
     ]
    }
   ],
   "source": [
    "print(df.shape)"
   ]
  },
  {
   "cell_type": "code",
   "execution_count": null,
   "metadata": {},
   "outputs": [],
   "source": []
  }
 ],
 "metadata": {
  "kernelspec": {
   "display_name": "Python 3",
   "language": "python",
   "name": "python3"
  },
  "language_info": {
   "codemirror_mode": {
    "name": "ipython",
    "version": 3
   },
   "file_extension": ".py",
   "mimetype": "text/x-python",
   "name": "python",
   "nbconvert_exporter": "python",
   "pygments_lexer": "ipython3",
   "version": "3.6.5"
  }
 },
 "nbformat": 4,
 "nbformat_minor": 2
}
